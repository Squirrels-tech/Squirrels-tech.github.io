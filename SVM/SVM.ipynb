{
 "cells": [
  {
   "cell_type": "markdown",
   "id": "89700b33",
   "metadata": {},
   "source": [
    "# Support Vector Machines"
   ]
  },
  {
   "cell_type": "markdown",
   "id": "ad18b3d4",
   "metadata": {},
   "source": [
    "Support Vector Machines (SVM) are supervised learning algorithms used for classification, regression and outlier detection problems. \n",
    "Support vector machines are popular for handling non - linear relationships and high dimensional data. An important property of SVM is that the determination of model parameters corresponds to a convex optimization problem therefore any local solution is also a global optimum."
   ]
  },
  {
   "cell_type": "code",
   "execution_count": null,
   "id": "3a2756a3",
   "metadata": {},
   "outputs": [],
   "source": []
  }
 ],
 "metadata": {
  "kernelspec": {
   "display_name": "Python 3 (ipykernel)",
   "language": "python",
   "name": "python3"
  },
  "language_info": {
   "codemirror_mode": {
    "name": "ipython",
    "version": 3
   },
   "file_extension": ".py",
   "mimetype": "text/x-python",
   "name": "python",
   "nbconvert_exporter": "python",
   "pygments_lexer": "ipython3",
   "version": "3.11.5"
  }
 },
 "nbformat": 4,
 "nbformat_minor": 5
}
